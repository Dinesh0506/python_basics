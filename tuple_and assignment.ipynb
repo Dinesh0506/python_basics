{
 "cells": [
  {
   "cell_type": "code",
   "execution_count": 1,
   "id": "aafb29e5",
   "metadata": {},
   "outputs": [
    {
     "name": "stdout",
     "output_type": "stream",
     "text": [
      "\n",
      "Tuple with a loop\n",
      "('Geeks',)\n",
      "(('Geeks',),)\n",
      "((('Geeks',),),)\n",
      "(((('Geeks',),),),)\n",
      "((((('Geeks',),),),),)\n"
     ]
    }
   ],
   "source": [
    "Tuple1 = ('Geeks')\n",
    "n = 5\n",
    "print(\"\\nTuple with a loop\")\n",
    "for i in range(int(n)):\n",
    "    Tuple1 = (Tuple1,)\n",
    "    print(Tuple1)"
   ]
  },
  {
   "cell_type": "code",
   "execution_count": 2,
   "id": "93362bc8",
   "metadata": {},
   "outputs": [
    {
     "name": "stdout",
     "output_type": "stream",
     "text": [
      "\n",
      "Tuple with Mixed Datatypes: \n",
      "(5, 'Welcome', 7, 'Geeks')\n"
     ]
    }
   ],
   "source": [
    "# Creating a Tuple\n",
    "# with Mixed Datatype\n",
    "Tuple1 = (5, 'Welcome', 7, 'Geeks')\n",
    "print(\"\\nTuple with Mixed Datatypes: \")\n",
    "print(Tuple1)"
   ]
  },
  {
   "cell_type": "markdown",
   "id": "7bc9670d",
   "metadata": {},
   "source": []
  },
  {
   "cell_type": "code",
   "execution_count": 3,
   "id": "6a17e0e0",
   "metadata": {},
   "outputs": [
    {
     "name": "stdout",
     "output_type": "stream",
     "text": [
      "enter a nameDineshkumar.S\n",
      "enter a professionSeasonal Helper in TNCSC\n",
      "enter a age23\n",
      "Dineshkumar.S\n",
      "Seasonal Helper in TNCSC\n",
      "23\n"
     ]
    }
   ],
   "source": [
    "#i/p from user to print details.\n",
    "name=input(\"enter a name\")\n",
    "profession=input(\"enter a profession\")\n",
    "age=input('enter a age')\n",
    "print(name)\n",
    "print(profession)\n",
    "print(age)"
   ]
  },
  {
   "cell_type": "code",
   "execution_count": 7,
   "id": "a6842fb2",
   "metadata": {},
   "outputs": [
    {
     "name": "stdout",
     "output_type": "stream",
     "text": [
      "(1, 2, 3, 'welcpme', 'to', 'hope ai')\n",
      "((1, 2, 3), ('welcpme', 'to', 'hope ai'), (1, 2, 3), ('welcpme', 'to', 'hope ai'), (1, 2, 3), ('welcpme', 'to', 'hope ai'))\n"
     ]
    }
   ],
   "source": [
    "#creating mixed tuples.\n",
    "tuple1=(1,2,3)\n",
    "tuple2=('welcpme', 'to', 'hope ai')\n",
    "tuple3=tuple1+tuple2\n",
    "#nested tuple creating \n",
    "tuple4=(tuple1,tuple2) \n",
    "print(tuple3)\n",
    "print(tuple4*3)  #repition the results."
   ]
  },
  {
   "cell_type": "code",
   "execution_count": 9,
   "id": "4bd07b6e",
   "metadata": {},
   "outputs": [
    {
     "name": "stdout",
     "output_type": "stream",
     "text": [
      "20 is even number\n",
      "10 is even number\n",
      "16 is even number\n",
      "276 is even number\n",
      "188 is even number\n"
     ]
    }
   ],
   "source": [
    "#find all even in list\n",
    "lists=[20,10,16,19,25,1,276,188]\n",
    "for i in lists:\n",
    "    if i % 2==0:\n",
    "        print(i,'is even number')\n",
    "        "
   ]
  },
  {
   "cell_type": "code",
   "execution_count": 11,
   "id": "3aeef267",
   "metadata": {},
   "outputs": [
    {
     "name": "stdout",
     "output_type": "stream",
     "text": [
      "19 is odd number\n",
      "25 is odd number\n",
      "1 is odd number\n"
     ]
    }
   ],
   "source": [
    "#find all odd in list\n",
    "lists=[20,10,16,19,25,1,276,188]\n",
    "for i in lists:\n",
    "    if i % 2 !=0:\n",
    "        print(i,'is odd number')\n",
    "        "
   ]
  },
  {
   "cell_type": "code",
   "execution_count": null,
   "id": "4becff30",
   "metadata": {},
   "outputs": [],
   "source": [
    "#corret predition\n",
    "i=10\n",
    "if i==10:\n",
    "    print('correct')\n",
    "    "
   ]
  },
  {
   "cell_type": "code",
   "execution_count": null,
   "id": "5fb47425",
   "metadata": {},
   "outputs": [],
   "source": [
    "#corret predition\n",
    "i=10\n",
    "if i==10:\n",
    "    print('correct')"
   ]
  },
  {
   "cell_type": "code",
   "execution_count": null,
   "id": "3d3a48c4",
   "metadata": {},
   "outputs": [],
   "source": [
    "print(1)"
   ]
  },
  {
   "cell_type": "code",
   "execution_count": null,
   "id": "28a3ff13",
   "metadata": {},
   "outputs": [],
   "source": []
  },
  {
   "cell_type": "code",
   "execution_count": null,
   "id": "92456584",
   "metadata": {},
   "outputs": [],
   "source": []
  }
 ],
 "metadata": {
  "kernelspec": {
   "display_name": "Python 3 (ipykernel)",
   "language": "python",
   "name": "python3"
  },
  "language_info": {
   "codemirror_mode": {
    "name": "ipython",
    "version": 3
   },
   "file_extension": ".py",
   "mimetype": "text/x-python",
   "name": "python",
   "nbconvert_exporter": "python",
   "pygments_lexer": "ipython3",
   "version": "3.9.13"
  }
 },
 "nbformat": 4,
 "nbformat_minor": 5
}
