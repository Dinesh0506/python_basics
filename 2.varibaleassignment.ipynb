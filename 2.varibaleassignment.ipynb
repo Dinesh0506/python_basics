{
 "cells": [
  {
   "cell_type": "code",
   "execution_count": 1,
   "id": "41b9f1fc",
   "metadata": {},
   "outputs": [
    {
     "name": "stdout",
     "output_type": "stream",
     "text": [
      "30\n"
     ]
    }
   ],
   "source": [
    "a=10\n",
    "b=20\n",
    "add=a+b\n",
    "print(add)"
   ]
  },
  {
   "cell_type": "code",
   "execution_count": 2,
   "id": "52f9f5df",
   "metadata": {},
   "outputs": [
    {
     "name": "stdout",
     "output_type": "stream",
     "text": [
      "enter a number1:155\n",
      "enter a number2:1999\n",
      "2154\n"
     ]
    }
   ],
   "source": [
    "num1=int(input(\"enter a number1:\"))\n",
    "num2=int(input(\"enter a number2:\"))\n",
    "add=num1+num2\n",
    "print(add)"
   ]
  },
  {
   "cell_type": "code",
   "execution_count": 3,
   "id": "08afed05",
   "metadata": {},
   "outputs": [
    {
     "name": "stdout",
     "output_type": "stream",
     "text": [
      "enter a number1:256\n",
      "enter a number2:456\n",
      "addtion of two numbers: 712\n"
     ]
    }
   ],
   "source": [
    "num1=int(input(\"enter a number1:\"))\n",
    "num2=int(input(\"enter a number2:\"))\n",
    "print(\"addtion of two numbers:\",num1+num2)"
   ]
  },
  {
   "cell_type": "code",
   "execution_count": null,
   "id": "f357c5b9",
   "metadata": {},
   "outputs": [],
   "source": []
  }
 ],
 "metadata": {
  "kernelspec": {
   "display_name": "Python 3 (ipykernel)",
   "language": "python",
   "name": "python3"
  },
  "language_info": {
   "codemirror_mode": {
    "name": "ipython",
    "version": 3
   },
   "file_extension": ".py",
   "mimetype": "text/x-python",
   "name": "python",
   "nbconvert_exporter": "python",
   "pygments_lexer": "ipython3",
   "version": "3.9.13"
  }
 },
 "nbformat": 4,
 "nbformat_minor": 5
}
