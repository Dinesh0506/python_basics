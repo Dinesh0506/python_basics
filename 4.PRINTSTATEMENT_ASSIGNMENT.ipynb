{
 "cells": [
  {
   "cell_type": "code",
   "execution_count": 2,
   "id": "637ffd69",
   "metadata": {},
   "outputs": [
    {
     "name": "stdout",
     "output_type": "stream",
     "text": [
      "enter a the institute name:hope Ai\n",
      "hope Ai\n",
      "enter a the  name:dinesh\n",
      "dinesh\n",
      "enter a the your age:23\n",
      "23\n",
      "HOPE AI\n"
     ]
    }
   ],
   "source": [
    "#print statement\n",
    "institute=input(\"enter a the institute name:\")\n",
    "print(institute)\n",
    "name=input(\"enter a the  name:\")\n",
    "print(name)\n",
    "age=input(\"enter a the your age:\")\n",
    "print(age)\n",
    "\n",
    "print('HOPE AI')"
   ]
  },
  {
   "cell_type": "code",
   "execution_count": 5,
   "id": "3b9a788e",
   "metadata": {},
   "outputs": [
    {
     "name": "stdout",
     "output_type": "stream",
     "text": [
      "enter a the institute name:HOPE AI\n",
      "enter a the  name:DINESH\n",
      "enter a the your age:23\n",
      "HOPE AI\n",
      "DINESH\n",
      "23\n"
     ]
    }
   ],
   "source": [
    "#print statement\n",
    "institute=input(\"enter a the institute name:\")\n",
    "name=input(\"enter a the  name:\")\n",
    "age=input(\"enter a the your age:\")\n",
    "print(institute)\n",
    "print(name)\n",
    "print(age)\n",
    "\n"
   ]
  },
  {
   "cell_type": "code",
   "execution_count": 4,
   "id": "85243c49",
   "metadata": {},
   "outputs": [
    {
     "name": "stdout",
     "output_type": "stream",
     "text": [
      "HOPE AI\n"
     ]
    }
   ],
   "source": [
    "print('HOPE AI')\n"
   ]
  },
  {
   "cell_type": "code",
   "execution_count": null,
   "id": "4bf1cb67",
   "metadata": {},
   "outputs": [],
   "source": []
  }
 ],
 "metadata": {
  "kernelspec": {
   "display_name": "Python 3 (ipykernel)",
   "language": "python",
   "name": "python3"
  },
  "language_info": {
   "codemirror_mode": {
    "name": "ipython",
    "version": 3
   },
   "file_extension": ".py",
   "mimetype": "text/x-python",
   "name": "python",
   "nbconvert_exporter": "python",
   "pygments_lexer": "ipython3",
   "version": "3.9.13"
  }
 },
 "nbformat": 4,
 "nbformat_minor": 5
}
