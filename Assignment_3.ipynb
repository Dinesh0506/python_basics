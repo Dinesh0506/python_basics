{
 "cells": [
  {
   "cell_type": "code",
   "execution_count": 5,
   "id": "e1d3d952",
   "metadata": {},
   "outputs": [
    {
     "name": "stdout",
     "output_type": "stream",
     "text": [
      "value: 10\n",
      "correct\n"
     ]
    }
   ],
   "source": [
    "#if_condition\n",
    "i=int(input('value: '))\n",
    "if i==10:\n",
    "    print(\"correct\")"
   ]
  },
  {
   "cell_type": "code",
   "execution_count": 8,
   "id": "3bb17807",
   "metadata": {},
   "outputs": [
    {
     "name": "stdout",
     "output_type": "stream",
     "text": [
      "enter a passwordhope133\n",
      "incorrect\n"
     ]
    }
   ],
   "source": [
    "#if_else\n",
    "password=input('enter a password')\n",
    "if password=='hope@123':\n",
    "    print('correct')\n",
    "else:\n",
    "    print('incorrect')\n"
   ]
  },
  {
   "cell_type": "code",
   "execution_count": 16,
   "id": "f2e68b88",
   "metadata": {},
   "outputs": [
    {
     "name": "stdout",
     "output_type": "stream",
     "text": [
      "Input a number: 2.5\n",
      "It is positive number\n"
     ]
    }
   ],
   "source": [
    "#nagative or postive number finding\n",
    "num = float(input(\"Input a number: \"))\n",
    "if num > 0:\n",
    "   print(\"It is positive number\")\n",
    "elif num == 0:\n",
    "   print(\"It is Zero\")\n",
    "else:\n",
    "   print(\"It is a negative number\")"
   ]
  },
  {
   "cell_type": "code",
   "execution_count": 17,
   "id": "1f3cf5d5",
   "metadata": {},
   "outputs": [
    {
     "name": "stdout",
     "output_type": "stream",
     "text": [
      "Input a number: 22\n",
      "22 is not divisible\n"
     ]
    }
   ],
   "source": [
    "#divisiable using modelo operator\n",
    "num = int(input(\"Input a number: \"))\n",
    "if num%5== 0:\n",
    "   print(num,\"is divisible\")\n",
    "else:\n",
    "    print(num,'is not divisible')"
   ]
  },
  {
   "cell_type": "code",
   "execution_count": 24,
   "id": "ad89178c",
   "metadata": {},
   "outputs": [
    {
     "name": "stdout",
     "output_type": "stream",
     "text": [
      "enter a age is60\n",
      "60 senior citizen\n"
     ]
    }
   ],
   "source": [
    "# Catagory the people by their age like children, adult, citizen, senior citizen\n",
    "age=int(input('enter a age is'))\n",
    "if(age<18):\n",
    "    print(age,'childran')\n",
    "elif(age<25):\n",
    "    print(age,'adult')\n",
    "elif(age<45):\n",
    "    print(age,'citizen')\n",
    "else:\n",
    "    print(age,'senior citizen')\n",
    "    "
   ]
  },
  {
   "cell_type": "code",
   "execution_count": 25,
   "id": "5828fec2",
   "metadata": {},
   "outputs": [
    {
     "name": "stdout",
     "output_type": "stream",
     "text": [
      "enter a age is42\n",
      "42 citizen\n"
     ]
    }
   ],
   "source": [
    "# Catagory the people by their age like children, adult, citizen, senior citizen\n",
    "age=int(input('enter a age is'))\n",
    "if(age<18):\n",
    "    print(age,'childran')\n",
    "elif(age<25):\n",
    "    print(age,'adult')\n",
    "elif(age<45):\n",
    "    print(age,'citizen')\n",
    "else:\n",
    "    print(age,'senior citizen')\n",
    "    "
   ]
  },
  {
   "cell_type": "code",
   "execution_count": 26,
   "id": "00922071",
   "metadata": {},
   "outputs": [
    {
     "name": "stdout",
     "output_type": "stream",
     "text": [
      "enter a age is20\n",
      "20 adult\n"
     ]
    }
   ],
   "source": [
    "# Catagory the people by their age like children, adult, citizen, senior citizen\n",
    "age=int(input('enter a age is'))\n",
    "if(age<18):\n",
    "    print(age,'childran')\n",
    "elif(age<25):\n",
    "    print(age,'adult')\n",
    "elif(age<45):\n",
    "    print(age,'citizen')\n",
    "else:\n",
    "    print(age,'senior citizen')\n",
    "    "
   ]
  },
  {
   "cell_type": "code",
   "execution_count": null,
   "id": "a994193c",
   "metadata": {},
   "outputs": [],
   "source": []
  }
 ],
 "metadata": {
  "kernelspec": {
   "display_name": "Python 3 (ipykernel)",
   "language": "python",
   "name": "python3"
  },
  "language_info": {
   "codemirror_mode": {
    "name": "ipython",
    "version": 3
   },
   "file_extension": ".py",
   "mimetype": "text/x-python",
   "name": "python",
   "nbconvert_exporter": "python",
   "pygments_lexer": "ipython3",
   "version": "3.9.13"
  }
 },
 "nbformat": 4,
 "nbformat_minor": 5
}
