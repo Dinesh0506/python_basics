{
 "cells": [
  {
   "cell_type": "code",
   "execution_count": 1,
   "id": "c98bf250",
   "metadata": {},
   "outputs": [
    {
     "name": "stdout",
     "output_type": "stream",
     "text": [
      "enter a age:18\n",
      "adult\n"
     ]
    }
   ],
   "source": [
    "#if conditon\n",
    "age=int(input('enter a age:'))\n",
    "if(age>=18):\n",
    "    print(\"adult\")"
   ]
  },
  {
   "cell_type": "code",
   "execution_count": 3,
   "id": "6c31ead3",
   "metadata": {},
   "outputs": [
    {
     "name": "stdout",
     "output_type": "stream",
     "text": [
      "enter a age:25\n"
     ]
    }
   ],
   "source": [
    "#if conditon\n",
    "age=int(input('enter a age:'))\n",
    "if(age==18):\n",
    "    print(\"adult\")"
   ]
  },
  {
   "cell_type": "code",
   "execution_count": 4,
   "id": "919d1096",
   "metadata": {},
   "outputs": [
    {
     "name": "stdout",
     "output_type": "stream",
     "text": [
      "enter a age:17\n",
      "childran\n"
     ]
    }
   ],
   "source": [
    "#if-else conditon\n",
    "age=int(input('enter a age:'))\n",
    "if(age<18):\n",
    "    print(\"childran\")\n",
    "else:\n",
    "    print(\"adult\")"
   ]
  },
  {
   "cell_type": "code",
   "execution_count": 5,
   "id": "2dfcde77",
   "metadata": {},
   "outputs": [
    {
     "name": "stdout",
     "output_type": "stream",
     "text": [
      "enter a age:35\n",
      "adult\n"
     ]
    }
   ],
   "source": [
    "#if-else conditon\n",
    "age=int(input('enter a age:'))\n",
    "if(age<18):\n",
    "    print(\"childran\")\n",
    "else:\n",
    "    print(\"adult\")"
   ]
  },
  {
   "cell_type": "code",
   "execution_count": 6,
   "id": "40afe4c0",
   "metadata": {},
   "outputs": [
    {
     "name": "stdout",
     "output_type": "stream",
     "text": [
      "entered a age:85\n",
      "senior citizen\n"
     ]
    }
   ],
   "source": [
    "#if-elif conditon\n",
    "age=int(input('entered a age:'))\n",
    "if(age<18):\n",
    "    print(\"childran\")\n",
    "elif(age<35):\n",
    "    print(\"adult\")\n",
    "elif(age<69):\n",
    "    print(\"citizen\")\n",
    "else:\n",
    "    print(\"senior citizen\")"
   ]
  },
  {
   "cell_type": "code",
   "execution_count": 7,
   "id": "23133435",
   "metadata": {},
   "outputs": [
    {
     "name": "stdout",
     "output_type": "stream",
     "text": [
      "entered a age:25\n",
      "adult\n"
     ]
    }
   ],
   "source": [
    "#if-elif conditon\n",
    "age=int(input('entered a age:'))\n",
    "if(age<18):\n",
    "    print(\"childran\")\n",
    "elif(age<35):\n",
    "    print(\"adult\")\n",
    "elif(age<69):\n",
    "    print(\"citizen\")\n",
    "else:\n",
    "    print(\"senior citizen\")"
   ]
  },
  {
   "cell_type": "code",
   "execution_count": 8,
   "id": "182391f9",
   "metadata": {},
   "outputs": [
    {
     "name": "stdout",
     "output_type": "stream",
     "text": [
      "entered a age:16\n",
      "childran\n"
     ]
    }
   ],
   "source": [
    "#if-elif conditon\n",
    "age=int(input('entered a age:'))\n",
    "if(age<18):\n",
    "    print(\"childran\")\n",
    "elif(age<35):\n",
    "    print(\"adult\")\n",
    "elif(age<69):\n",
    "    print(\"citizen\")\n",
    "else:\n",
    "    print(\"senior citizen\")"
   ]
  },
  {
   "cell_type": "code",
   "execution_count": 9,
   "id": "529d3ca1",
   "metadata": {},
   "outputs": [
    {
     "name": "stdout",
     "output_type": "stream",
     "text": [
      "23\n",
      "24\n",
      "25\n",
      "30\n",
      "10\n"
     ]
    }
   ],
   "source": [
    "lists=[23,24,25,30,10]\n",
    "for temp in lists:\n",
    "    print(temp)"
   ]
  },
  {
   "cell_type": "code",
   "execution_count": null,
   "id": "e5a96c21",
   "metadata": {},
   "outputs": [],
   "source": []
  }
 ],
 "metadata": {
  "kernelspec": {
   "display_name": "Python 3 (ipykernel)",
   "language": "python",
   "name": "python3"
  },
  "language_info": {
   "codemirror_mode": {
    "name": "ipython",
    "version": 3
   },
   "file_extension": ".py",
   "mimetype": "text/x-python",
   "name": "python",
   "nbconvert_exporter": "python",
   "pygments_lexer": "ipython3",
   "version": "3.9.13"
  }
 },
 "nbformat": 4,
 "nbformat_minor": 5
}
